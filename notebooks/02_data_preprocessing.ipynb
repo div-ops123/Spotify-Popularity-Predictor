{
 "cells": [
  {
   "cell_type": "markdown",
   "id": "342e51ae",
   "metadata": {},
   "source": [
    "# Phase 2 → Step 3: Data Cleaning & Preprocessing\n",
    "\n",
    "Goal: Prepare a high-quality dataset for modeling by fixing structure, types, and noise.\n",
    "\n",
    " 1. Handle Missing Values\n",
    " 2. Fix Data Types\n",
    " 3. Exclude non-feature columns\n",
    " 4. Feature Engineering\n",
    " 5. Save Clean Data"
   ]
  },
  {
   "cell_type": "code",
   "execution_count": 1,
   "id": "e9b29d8e",
   "metadata": {},
   "outputs": [],
   "source": [
    "import os\n",
    "os.chdir(\"..\")"
   ]
  },
  {
   "cell_type": "code",
   "execution_count": null,
   "id": "c713aa7d",
   "metadata": {},
   "outputs": [],
   "source": [
    "import pandas as pd\n",
    "import numpy as np\n",
    "from datetime import datetime\n",
    "from sklearn.preprocessing import MinMaxScaler, StandardScaler, OneHotEncoder\n",
    "\n",
    "from src.utils.helper import get_config"
   ]
  },
  {
   "cell_type": "code",
   "execution_count": 31,
   "id": "1c9ba4db",
   "metadata": {},
   "outputs": [],
   "source": [
    "config = get_config()\n",
    "\n",
    "df = pd.read_csv(config[\"data\"][\"processed\"][\"combined\"])\n"
   ]
  },
  {
   "cell_type": "markdown",
   "id": "0eadacae",
   "metadata": {},
   "source": [
    "## Step 1: Handle Missing values"
   ]
  },
  {
   "cell_type": "code",
   "execution_count": 4,
   "id": "1aaaa2bc",
   "metadata": {},
   "outputs": [
    {
     "data": {
      "text/plain": [
       "Series([], dtype: int64)"
      ]
     },
     "execution_count": 4,
     "metadata": {},
     "output_type": "execute_result"
    }
   ],
   "source": [
    "\n",
    "df = df.dropna()\n",
    "\n",
    "missing_values = df.isnull().sum().sort_values(ascending=False)\n",
    "missing_values[missing_values > 0]"
   ]
  },
  {
   "cell_type": "markdown",
   "id": "173c77d7",
   "metadata": {},
   "source": [
    "## Step 2: Handle Duplicates"
   ]
  },
  {
   "cell_type": "code",
   "execution_count": 5,
   "id": "97c8c01b",
   "metadata": {},
   "outputs": [
    {
     "data": {
      "text/plain": [
       "(4829, 29)"
      ]
     },
     "execution_count": 5,
     "metadata": {},
     "output_type": "execute_result"
    }
   ],
   "source": [
    "df.shape"
   ]
  },
  {
   "cell_type": "code",
   "execution_count": 6,
   "id": "0db2949f",
   "metadata": {},
   "outputs": [
    {
     "data": {
      "text/plain": [
       "np.int64(0)"
      ]
     },
     "execution_count": 6,
     "metadata": {},
     "output_type": "execute_result"
    }
   ],
   "source": [
    "df = df.drop_duplicates()\n",
    "\n",
    "df.duplicated().sum()"
   ]
  },
  {
   "cell_type": "code",
   "execution_count": 7,
   "id": "41bcaf73",
   "metadata": {},
   "outputs": [
    {
     "data": {
      "text/plain": [
       "(4786, 29)"
      ]
     },
     "execution_count": 7,
     "metadata": {},
     "output_type": "execute_result"
    }
   ],
   "source": [
    "df.shape"
   ]
  },
  {
   "cell_type": "markdown",
   "id": "04004ac2",
   "metadata": {},
   "source": [
    "## Step 2: Fix Data Types"
   ]
  },
  {
   "cell_type": "code",
   "execution_count": 8,
   "id": "a0e7ffd5",
   "metadata": {},
   "outputs": [
    {
     "name": "stdout",
     "output_type": "stream",
     "text": [
      "<class 'pandas.core.frame.DataFrame'>\n",
      "Index: 4786 entries, 0 to 4830\n",
      "Data columns (total 29 columns):\n",
      " #   Column                    Non-Null Count  Dtype  \n",
      "---  ------                    --------------  -----  \n",
      " 0   time_signature            4786 non-null   float64\n",
      " 1   track_popularity          4786 non-null   int64  \n",
      " 2   speechiness               4786 non-null   float64\n",
      " 3   danceability              4786 non-null   float64\n",
      " 4   playlist_name             4786 non-null   object \n",
      " 5   track_artist              4786 non-null   object \n",
      " 6   duration_ms               4786 non-null   float64\n",
      " 7   energy                    4786 non-null   float64\n",
      " 8   playlist_genre            4786 non-null   object \n",
      " 9   playlist_subgenre         4786 non-null   object \n",
      " 10  track_href                4786 non-null   object \n",
      " 11  track_name                4786 non-null   object \n",
      " 12  mode                      4786 non-null   float64\n",
      " 13  uri                       4786 non-null   object \n",
      " 14  type                      4786 non-null   object \n",
      " 15  track_album_release_date  4786 non-null   object \n",
      " 16  analysis_url              4786 non-null   object \n",
      " 17  id                        4786 non-null   object \n",
      " 18  instrumentalness          4786 non-null   float64\n",
      " 19  track_album_id            4786 non-null   object \n",
      " 20  playlist_id               4786 non-null   object \n",
      " 21  track_id                  4786 non-null   object \n",
      " 22  valence                   4786 non-null   float64\n",
      " 23  key                       4786 non-null   float64\n",
      " 24  tempo                     4786 non-null   float64\n",
      " 25  loudness                  4786 non-null   float64\n",
      " 26  acousticness              4786 non-null   float64\n",
      " 27  liveness                  4786 non-null   float64\n",
      " 28  track_album_name          4786 non-null   object \n",
      "dtypes: float64(13), int64(1), object(15)\n",
      "memory usage: 1.1+ MB\n"
     ]
    }
   ],
   "source": [
    "df.info()"
   ]
  },
  {
   "cell_type": "code",
   "execution_count": 9,
   "id": "82416fcb",
   "metadata": {},
   "outputs": [
    {
     "data": {
      "text/html": [
       "<div>\n",
       "<style scoped>\n",
       "    .dataframe tbody tr th:only-of-type {\n",
       "        vertical-align: middle;\n",
       "    }\n",
       "\n",
       "    .dataframe tbody tr th {\n",
       "        vertical-align: top;\n",
       "    }\n",
       "\n",
       "    .dataframe thead th {\n",
       "        text-align: right;\n",
       "    }\n",
       "</style>\n",
       "<table border=\"1\" class=\"dataframe\">\n",
       "  <thead>\n",
       "    <tr style=\"text-align: right;\">\n",
       "      <th></th>\n",
       "      <th>time_signature</th>\n",
       "      <th>track_popularity</th>\n",
       "      <th>speechiness</th>\n",
       "      <th>danceability</th>\n",
       "      <th>playlist_name</th>\n",
       "      <th>track_artist</th>\n",
       "      <th>duration_ms</th>\n",
       "      <th>energy</th>\n",
       "      <th>playlist_genre</th>\n",
       "      <th>playlist_subgenre</th>\n",
       "      <th>...</th>\n",
       "      <th>valence</th>\n",
       "      <th>key</th>\n",
       "      <th>tempo</th>\n",
       "      <th>loudness</th>\n",
       "      <th>acousticness</th>\n",
       "      <th>liveness</th>\n",
       "      <th>track_album_name</th>\n",
       "      <th>release_year</th>\n",
       "      <th>release_month</th>\n",
       "      <th>song_age</th>\n",
       "    </tr>\n",
       "  </thead>\n",
       "  <tbody>\n",
       "    <tr>\n",
       "      <th>0</th>\n",
       "      <td>4.0</td>\n",
       "      <td>23</td>\n",
       "      <td>0.0393</td>\n",
       "      <td>0.636</td>\n",
       "      <td>Rock Classics</td>\n",
       "      <td>Creedence Clearwater Revival</td>\n",
       "      <td>138053.0</td>\n",
       "      <td>0.746</td>\n",
       "      <td>rock</td>\n",
       "      <td>classic</td>\n",
       "      <td>...</td>\n",
       "      <td>0.432</td>\n",
       "      <td>0.0</td>\n",
       "      <td>132.310</td>\n",
       "      <td>-3.785</td>\n",
       "      <td>0.0648</td>\n",
       "      <td>0.1730</td>\n",
       "      <td>The Long Road Home - The Ultimate John Fogerty...</td>\n",
       "      <td>2005</td>\n",
       "      <td>12</td>\n",
       "      <td>20</td>\n",
       "    </tr>\n",
       "    <tr>\n",
       "      <th>1</th>\n",
       "      <td>4.0</td>\n",
       "      <td>53</td>\n",
       "      <td>0.0317</td>\n",
       "      <td>0.572</td>\n",
       "      <td>Rock Classics</td>\n",
       "      <td>Van Halen</td>\n",
       "      <td>241600.0</td>\n",
       "      <td>0.835</td>\n",
       "      <td>rock</td>\n",
       "      <td>classic</td>\n",
       "      <td>...</td>\n",
       "      <td>0.795</td>\n",
       "      <td>0.0</td>\n",
       "      <td>129.981</td>\n",
       "      <td>-6.219</td>\n",
       "      <td>0.1710</td>\n",
       "      <td>0.0702</td>\n",
       "      <td>The Collection</td>\n",
       "      <td>2015</td>\n",
       "      <td>3</td>\n",
       "      <td>10</td>\n",
       "    </tr>\n",
       "    <tr>\n",
       "      <th>2</th>\n",
       "      <td>4.0</td>\n",
       "      <td>55</td>\n",
       "      <td>0.0454</td>\n",
       "      <td>0.591</td>\n",
       "      <td>Rock Classics</td>\n",
       "      <td>Stevie Nicks</td>\n",
       "      <td>329413.0</td>\n",
       "      <td>0.804</td>\n",
       "      <td>rock</td>\n",
       "      <td>classic</td>\n",
       "      <td>...</td>\n",
       "      <td>0.658</td>\n",
       "      <td>0.0</td>\n",
       "      <td>111.457</td>\n",
       "      <td>-7.299</td>\n",
       "      <td>0.3270</td>\n",
       "      <td>0.0818</td>\n",
       "      <td>Bella Donna (Deluxe Edition)</td>\n",
       "      <td>2016</td>\n",
       "      <td>11</td>\n",
       "      <td>9</td>\n",
       "    </tr>\n",
       "    <tr>\n",
       "      <th>3</th>\n",
       "      <td>4.0</td>\n",
       "      <td>64</td>\n",
       "      <td>0.1010</td>\n",
       "      <td>0.443</td>\n",
       "      <td>Jazz Classics</td>\n",
       "      <td>Ella Fitzgerald, Louis Armstrong</td>\n",
       "      <td>185160.0</td>\n",
       "      <td>0.104</td>\n",
       "      <td>jazz</td>\n",
       "      <td>classic</td>\n",
       "      <td>...</td>\n",
       "      <td>0.394</td>\n",
       "      <td>0.0</td>\n",
       "      <td>76.474</td>\n",
       "      <td>-17.042</td>\n",
       "      <td>0.9130</td>\n",
       "      <td>0.1910</td>\n",
       "      <td>Love, Ella</td>\n",
       "      <td>2007</td>\n",
       "      <td>5</td>\n",
       "      <td>18</td>\n",
       "    </tr>\n",
       "    <tr>\n",
       "      <th>4</th>\n",
       "      <td>4.0</td>\n",
       "      <td>62</td>\n",
       "      <td>0.0298</td>\n",
       "      <td>0.685</td>\n",
       "      <td>Jazz Classics</td>\n",
       "      <td>Galt MacDermot</td>\n",
       "      <td>205720.0</td>\n",
       "      <td>0.472</td>\n",
       "      <td>jazz</td>\n",
       "      <td>classic</td>\n",
       "      <td>...</td>\n",
       "      <td>0.475</td>\n",
       "      <td>9.0</td>\n",
       "      <td>80.487</td>\n",
       "      <td>-9.691</td>\n",
       "      <td>0.7850</td>\n",
       "      <td>0.2240</td>\n",
       "      <td>Shapes of Rhythm/Woman Is Sweeter</td>\n",
       "      <td>2000</td>\n",
       "      <td>1</td>\n",
       "      <td>25</td>\n",
       "    </tr>\n",
       "  </tbody>\n",
       "</table>\n",
       "<p>5 rows × 32 columns</p>\n",
       "</div>"
      ],
      "text/plain": [
       "   time_signature  track_popularity  speechiness  danceability  playlist_name  \\\n",
       "0             4.0                23       0.0393         0.636  Rock Classics   \n",
       "1             4.0                53       0.0317         0.572  Rock Classics   \n",
       "2             4.0                55       0.0454         0.591  Rock Classics   \n",
       "3             4.0                64       0.1010         0.443  Jazz Classics   \n",
       "4             4.0                62       0.0298         0.685  Jazz Classics   \n",
       "\n",
       "                       track_artist  duration_ms  energy playlist_genre  \\\n",
       "0      Creedence Clearwater Revival     138053.0   0.746           rock   \n",
       "1                         Van Halen     241600.0   0.835           rock   \n",
       "2                      Stevie Nicks     329413.0   0.804           rock   \n",
       "3  Ella Fitzgerald, Louis Armstrong     185160.0   0.104           jazz   \n",
       "4                    Galt MacDermot     205720.0   0.472           jazz   \n",
       "\n",
       "  playlist_subgenre  ... valence  key    tempo loudness acousticness liveness  \\\n",
       "0           classic  ...   0.432  0.0  132.310   -3.785       0.0648   0.1730   \n",
       "1           classic  ...   0.795  0.0  129.981   -6.219       0.1710   0.0702   \n",
       "2           classic  ...   0.658  0.0  111.457   -7.299       0.3270   0.0818   \n",
       "3           classic  ...   0.394  0.0   76.474  -17.042       0.9130   0.1910   \n",
       "4           classic  ...   0.475  9.0   80.487   -9.691       0.7850   0.2240   \n",
       "\n",
       "                                    track_album_name release_year  \\\n",
       "0  The Long Road Home - The Ultimate John Fogerty...         2005   \n",
       "1                                     The Collection         2015   \n",
       "2                       Bella Donna (Deluxe Edition)         2016   \n",
       "3                                         Love, Ella         2007   \n",
       "4                  Shapes of Rhythm/Woman Is Sweeter         2000   \n",
       "\n",
       "   release_month song_age  \n",
       "0             12       20  \n",
       "1              3       10  \n",
       "2             11        9  \n",
       "3              5       18  \n",
       "4              1       25  \n",
       "\n",
       "[5 rows x 32 columns]"
      ]
     },
     "execution_count": 9,
     "metadata": {},
     "output_type": "execute_result"
    }
   ],
   "source": [
    "# Convert 'track_album_release_date' to datetime\n",
    "\n",
    "df['track_album_release_date'] = pd.to_datetime(df['track_album_release_date'], errors='coerce')\n",
    "\n",
    "df['release_year'] = df['track_album_release_date'].dt.year.astype('Int64')\n",
    "df['release_month'] = df['track_album_release_date'].dt.month.astype('Int64')\n",
    "df['song_age'] = datetime.now().year - df['release_year'].astype('Int64')\n",
    "\n",
    "df.head()"
   ]
  },
  {
   "cell_type": "code",
   "execution_count": 10,
   "id": "fc995636",
   "metadata": {},
   "outputs": [
    {
     "data": {
      "text/html": [
       "<div>\n",
       "<style scoped>\n",
       "    .dataframe tbody tr th:only-of-type {\n",
       "        vertical-align: middle;\n",
       "    }\n",
       "\n",
       "    .dataframe tbody tr th {\n",
       "        vertical-align: top;\n",
       "    }\n",
       "\n",
       "    .dataframe thead th {\n",
       "        text-align: right;\n",
       "    }\n",
       "</style>\n",
       "<table border=\"1\" class=\"dataframe\">\n",
       "  <thead>\n",
       "    <tr style=\"text-align: right;\">\n",
       "      <th></th>\n",
       "      <th>Missing Count</th>\n",
       "      <th>Missing %</th>\n",
       "    </tr>\n",
       "  </thead>\n",
       "  <tbody>\n",
       "    <tr>\n",
       "      <th>track_album_release_date</th>\n",
       "      <td>138</td>\n",
       "      <td>2.88341</td>\n",
       "    </tr>\n",
       "    <tr>\n",
       "      <th>release_month</th>\n",
       "      <td>138</td>\n",
       "      <td>2.88341</td>\n",
       "    </tr>\n",
       "    <tr>\n",
       "      <th>release_year</th>\n",
       "      <td>138</td>\n",
       "      <td>2.88341</td>\n",
       "    </tr>\n",
       "    <tr>\n",
       "      <th>song_age</th>\n",
       "      <td>138</td>\n",
       "      <td>2.88341</td>\n",
       "    </tr>\n",
       "  </tbody>\n",
       "</table>\n",
       "</div>"
      ],
      "text/plain": [
       "                          Missing Count  Missing %\n",
       "track_album_release_date            138    2.88341\n",
       "release_month                       138    2.88341\n",
       "release_year                        138    2.88341\n",
       "song_age                            138    2.88341"
      ]
     },
     "execution_count": 10,
     "metadata": {},
     "output_type": "execute_result"
    }
   ],
   "source": [
    "\n",
    "missing_values = df.isnull().sum().sort_values(ascending=False)\n",
    "mising_percent = (df.isnull().sum() / len(df) * 100).sort_values(ascending=False)\n",
    "\n",
    "missing_summary = pd.DataFrame({\n",
    "    'Missing Count': missing_values,\n",
    "    'Missing %': mising_percent\n",
    "})\n",
    "missing_summary = missing_summary[missing_summary['Missing Count'] > 0]\n",
    "missing_summary"
   ]
  },
  {
   "cell_type": "markdown",
   "id": "f6edd54b",
   "metadata": {},
   "source": [
    "## Summary:\n",
    "\n",
    "* 2.9% of missing values, That’s small.\n",
    "\n",
    "* Since the date features are **important predictors** (since newer songs can trend differently), then those rows can be safely removed.\n",
    "\n",
    "Why this is fine:\n",
    "\n",
    "* Only ~3% of data gone — not much loss.\n",
    "\n",
    "* Keeps your year, month, and age columns clean and consistent.\n",
    "\n",
    "* Avoids introducing fake values that could mislead the model."
   ]
  },
  {
   "cell_type": "code",
   "execution_count": 11,
   "id": "4c314103",
   "metadata": {},
   "outputs": [
    {
     "data": {
      "text/plain": [
       "Series([], dtype: int64)"
      ]
     },
     "execution_count": 11,
     "metadata": {},
     "output_type": "execute_result"
    }
   ],
   "source": [
    "df = df.dropna(subset=['track_album_release_date', 'release_month', 'release_year', 'song_age'])\n",
    "\n",
    "missing_values = df.isnull().sum().sort_values(ascending=False)\n",
    "missing_values[missing_values > 0]"
   ]
  },
  {
   "cell_type": "code",
   "execution_count": 12,
   "id": "6cf43495",
   "metadata": {},
   "outputs": [
    {
     "data": {
      "text/plain": [
       "(4648, 32)"
      ]
     },
     "execution_count": 12,
     "metadata": {},
     "output_type": "execute_result"
    }
   ],
   "source": [
    "df.shape"
   ]
  },
  {
   "cell_type": "markdown",
   "id": "cbdd9668",
   "metadata": {},
   "source": [
    "**Convert to categorical:**\n",
    "\n",
    "* Some features like: `mode`, `key`, and `time_signature` are stored as numerical but they actually **don't represent continuous or ordered quantities.**\n",
    "\n",
    "* We keep `mode` as float becos it is already 0 or 1\n",
    "* We mark rest as categorical, because their values are labels, not magnitudes."
   ]
  },
  {
   "cell_type": "code",
   "execution_count": 13,
   "id": "048bb195",
   "metadata": {},
   "outputs": [],
   "source": [
    "df['key'] = df['key'].astype('category')\n",
    "df['time_signature'] = df['time_signature'].astype('category')\n"
   ]
  },
  {
   "cell_type": "markdown",
   "id": "808d905e",
   "metadata": {},
   "source": [
    "Key, time_signature: One-hot encoding is best because each key is distinct, not ranked."
   ]
  },
  {
   "cell_type": "code",
   "execution_count": 15,
   "id": "9d523a5e",
   "metadata": {},
   "outputs": [
    {
     "data": {
      "text/plain": [
       "Text(0, 0.5, 'Track Popularity')"
      ]
     },
     "execution_count": 15,
     "metadata": {},
     "output_type": "execute_result"
    },
    {
     "data": {
      "image/png": "[encoded data removed]",
      "text/plain": [
       "<Figure size 2000x600 with 1 Axes>"
      ]
     },
     "metadata": {},
     "output_type": "display_data"
    }
   ],
   "source": [
    "import seaborn as sns\n",
    "import matplotlib.pyplot as plt\n",
    "\n",
    "%matplotlib inline\n",
    "plt.style.use('seaborn-v0_8-darkgrid')\n",
    "plt.rcParams[\"figure.figsize\"] = (20, 6)\n",
    "\n",
    "\n",
    "\n",
    "sns.boxplot(x='release_month', y='track_popularity', data=df)\n",
    "plt.title('Track Popularity vs Release Month')\n",
    "plt.xlabel('Release Month')\n",
    "plt.ylabel('Track Popularity')"
   ]
  },
  {
   "cell_type": "code",
   "execution_count": 16,
   "id": "7f6a54e7",
   "metadata": {},
   "outputs": [
    {
     "name": "stderr",
     "output_type": "stream",
     "text": [
      "C:\\Users\\ecole\\AppData\\Local\\Temp\\ipykernel_13364\\3111158567.py:1: FutureWarning: \n",
      "\n",
      "The `ci` parameter is deprecated. Use `errorbar=None` for the same effect.\n",
      "\n",
      "  sns.barplot(\n"
     ]
    },
    {
     "data": {
      "text/plain": [
       "Text(0, 0.5, 'Average Track Popularity')"
      ]
     },
     "execution_count": 16,
     "metadata": {},
     "output_type": "execute_result"
    },
    {
     "data": {
      "image/png": "[encoded data removed]",
      "text/plain": [
       "<Figure size 2000x600 with 1 Axes>"
      ]
     },
     "metadata": {},
     "output_type": "display_data"
    }
   ],
   "source": [
    "sns.barplot(\n",
    "    x='release_month',\n",
    "    y='track_popularity',\n",
    "    data=df,\n",
    "    estimator='mean',\n",
    "    ci=None\n",
    ")\n",
    "plt.title('Average Popularity by Release Month')\n",
    "plt.xlabel('Release Month')\n",
    "plt.ylabel('Average Track Popularity')"
   ]
  },
  {
   "cell_type": "markdown",
   "id": "a5e9c5aa",
   "metadata": {},
   "source": [
    "## Summary:\n",
    "\n",
    "* `release_month` has NO predictive value"
   ]
  },
  {
   "cell_type": "code",
   "execution_count": 17,
   "id": "a80d184b",
   "metadata": {},
   "outputs": [
    {
     "data": {
      "image/png": "[encoded data removed]",
      "text/plain": [
       "<Figure size 2000x600 with 1 Axes>"
      ]
     },
     "metadata": {},
     "output_type": "display_data"
    }
   ],
   "source": [
    "\n",
    "sns.histplot(df['song_age'], bins=20, kde=True, color='skyblue')\n",
    "plt.title(\"Distribution of Song Age\")\n",
    "plt.xlabel(\"Song Age (years)\")\n",
    "plt.ylabel(\"Count\")\n",
    "plt.show()\n"
   ]
  },
  {
   "cell_type": "markdown",
   "id": "b16d4af3",
   "metadata": {},
   "source": [
    "## Step 4: Feature Engineering"
   ]
  },
  {
   "cell_type": "markdown",
   "id": "8b06c4ab",
   "metadata": {},
   "source": [
    "* Step 1. Identify features to scale\n",
    "\n",
    "→ Why: Models like Linear Regression and KNN are sensitive to feature magnitude.\n",
    "\n",
    "* Category-like numeric columns: we one-hot encode them so the model doesn’t assume numerical relationships.\n",
    "\n",
    "* Step 3. Save the clean, engineered dataset"
   ]
  },
  {
   "cell_type": "markdown",
   "id": "6ed9e8ab",
   "metadata": {},
   "source": [
    "### ✅ Features Scaling Plan:\n",
    "\n",
    "**Goal**:\n",
    "Bring all numeric features to a similar range so that no feature dominates others because of its numeric magnitude.\n",
    "\n",
    "| Feature       | Current Range      | Distribution Shape    | Scaling Type             | Why                                                                              |\n",
    "| ------------- | ------------------ | --------------------- | ------------------------ | -------------------------------------------------------------------------------- |\n",
    "| `duration_ms` | 35,000 → 1,355,000 | Strongly right-skewed | **Log + StandardScaler** | Extremely large range — log transform first to reduce skewness, then standardize |\n",
    "| `tempo`       | 48 → 241           | Roughly normal        | **StandardScaler**       | Standardize to mean 0, std 1                                                     |\n",
    "| `loudness`    | -48 → 1            | Slightly skewed       | **StandardScaler**       | Works well for normally distributed or near-normal values                        |\n",
    "| `song_age`    | 1 → 71             | Right-skewed          | **MinMaxScaler (0–1)**   | Easier to interpret and doesn’t distort small values too much                    |\n",
    "\n",
    "\n",
    "---\n",
    "\n",
    "\n",
    "> #### Apply Scaling\n",
    ">\n",
    "> Plan:\n",
    ">\n",
    "> 1. Apply log transform to `duration_ms`\n",
    "> 2. Standardize `tempo` and `loudness`\n",
    "> 3. Normalize `song_age` (0–1)\n",
    "> 4. Create new scaled columns\n",
    "> 5. Save cleaned data to `data/processed/`\n"
   ]
  },
  {
   "cell_type": "code",
   "execution_count": 18,
   "id": "c14ba57e",
   "metadata": {},
   "outputs": [],
   "source": [
    "\n",
    "df['duration_ms_log'] = np.log1p(df['duration_ms'])\n"
   ]
  },
  {
   "cell_type": "code",
   "execution_count": 19,
   "id": "ab9bafaa",
   "metadata": {},
   "outputs": [],
   "source": [
    "scaler = StandardScaler()\n",
    "minmax = MinMaxScaler()\n",
    "\n",
    "df[['tempo_scaled', 'loudness_scaled', 'duration_ms_log_scaled']] = scaler.fit_transform(df[['tempo', 'loudness', 'duration_ms_log']])\n",
    "df['song_age_scaled'] = minmax.fit_transform(df[['song_age']])"
   ]
  },
  {
   "cell_type": "code",
   "execution_count": 20,
   "id": "4685c8ee",
   "metadata": {},
   "outputs": [
    {
     "data": {
      "text/html": [
       "<div>\n",
       "<style scoped>\n",
       "    .dataframe tbody tr th:only-of-type {\n",
       "        vertical-align: middle;\n",
       "    }\n",
       "\n",
       "    .dataframe tbody tr th {\n",
       "        vertical-align: top;\n",
       "    }\n",
       "\n",
       "    .dataframe thead th {\n",
       "        text-align: right;\n",
       "    }\n",
       "</style>\n",
       "<table border=\"1\" class=\"dataframe\">\n",
       "  <thead>\n",
       "    <tr style=\"text-align: right;\">\n",
       "      <th></th>\n",
       "      <th>count</th>\n",
       "      <th>mean</th>\n",
       "      <th>std</th>\n",
       "      <th>min</th>\n",
       "      <th>25%</th>\n",
       "      <th>50%</th>\n",
       "      <th>75%</th>\n",
       "      <th>max</th>\n",
       "    </tr>\n",
       "  </thead>\n",
       "  <tbody>\n",
       "    <tr>\n",
       "      <th>tempo_scaled</th>\n",
       "      <td>4648.0</td>\n",
       "      <td>5.625640e-16</td>\n",
       "      <td>1.000108</td>\n",
       "      <td>-2.455879</td>\n",
       "      <td>-0.775645</td>\n",
       "      <td>-0.003611</td>\n",
       "      <td>0.648148</td>\n",
       "      <td>4.331952</td>\n",
       "    </tr>\n",
       "    <tr>\n",
       "      <th>loudness_scaled</th>\n",
       "      <td>4648.0</td>\n",
       "      <td>-1.712151e-16</td>\n",
       "      <td>1.000108</td>\n",
       "      <td>-5.387175</td>\n",
       "      <td>-0.139944</td>\n",
       "      <td>0.291848</td>\n",
       "      <td>0.553600</td>\n",
       "      <td>1.478002</td>\n",
       "    </tr>\n",
       "    <tr>\n",
       "      <th>duration_ms_log_scaled</th>\n",
       "      <td>4648.0</td>\n",
       "      <td>1.455328e-15</td>\n",
       "      <td>1.000108</td>\n",
       "      <td>-5.191345</td>\n",
       "      <td>-0.618519</td>\n",
       "      <td>-0.001096</td>\n",
       "      <td>0.552549</td>\n",
       "      <td>5.942774</td>\n",
       "    </tr>\n",
       "    <tr>\n",
       "      <th>song_age_scaled</th>\n",
       "      <td>4648.0</td>\n",
       "      <td>9.480268e-02</td>\n",
       "      <td>0.144207</td>\n",
       "      <td>0.000000</td>\n",
       "      <td>0.000000</td>\n",
       "      <td>0.028571</td>\n",
       "      <td>0.114286</td>\n",
       "      <td>1.000000</td>\n",
       "    </tr>\n",
       "  </tbody>\n",
       "</table>\n",
       "</div>"
      ],
      "text/plain": [
       "                         count          mean       std       min       25%  \\\n",
       "tempo_scaled            4648.0  5.625640e-16  1.000108 -2.455879 -0.775645   \n",
       "loudness_scaled         4648.0 -1.712151e-16  1.000108 -5.387175 -0.139944   \n",
       "duration_ms_log_scaled  4648.0  1.455328e-15  1.000108 -5.191345 -0.618519   \n",
       "song_age_scaled         4648.0  9.480268e-02  0.144207  0.000000  0.000000   \n",
       "\n",
       "                             50%       75%       max  \n",
       "tempo_scaled           -0.003611  0.648148  4.331952  \n",
       "loudness_scaled         0.291848  0.553600  1.478002  \n",
       "duration_ms_log_scaled -0.001096  0.552549  5.942774  \n",
       "song_age_scaled         0.028571  0.114286  1.000000  "
      ]
     },
     "execution_count": 20,
     "metadata": {},
     "output_type": "execute_result"
    }
   ],
   "source": [
    "df[['tempo_scaled', 'loudness_scaled', 'duration_ms_log_scaled', 'song_age_scaled']].describe().T"
   ]
  },
  {
   "cell_type": "markdown",
   "id": "916e2942",
   "metadata": {},
   "source": [
    "#### ✅ Verdict\n",
    "\n",
    "Scaling was done correctly and the stats confirm it:\n",
    "\n",
    "* Mean around 0 (or small positive if min–max)\n",
    "\n",
    "* Std ≈ 1 for standard-scaled features\n",
    "\n",
    "* Ranges look normal, no extreme distortions"
   ]
  },
  {
   "cell_type": "code",
   "execution_count": 21,
   "id": "9a9a2c6e",
   "metadata": {},
   "outputs": [
    {
     "data": {
      "text/plain": [
       "Index(['time_signature', 'track_popularity', 'speechiness', 'danceability',\n",
       "       'playlist_name', 'track_artist', 'duration_ms', 'energy',\n",
       "       'playlist_genre', 'playlist_subgenre', 'track_href', 'track_name',\n",
       "       'mode', 'uri', 'type', 'track_album_release_date', 'analysis_url', 'id',\n",
       "       'instrumentalness', 'track_album_id', 'playlist_id', 'track_id',\n",
       "       'valence', 'key', 'tempo', 'loudness', 'acousticness', 'liveness',\n",
       "       'track_album_name', 'release_year', 'release_month', 'song_age',\n",
       "       'duration_ms_log', 'tempo_scaled', 'loudness_scaled',\n",
       "       'duration_ms_log_scaled', 'song_age_scaled'],\n",
       "      dtype='object')"
      ]
     },
     "execution_count": 21,
     "metadata": {},
     "output_type": "execute_result"
    }
   ],
   "source": [
    "df.columns"
   ]
  },
  {
   "cell_type": "markdown",
   "id": "843b8e87",
   "metadata": {},
   "source": [
    "### ✅ Features to Encode:\n",
    "\n",
    "| Feature          | Best Encoding                                                      |\n",
    "| ---------------- | ------------------------------------------------------------------ |\n",
    "| `mode`           | **Keep as is**, because they already only have two categories (0,1)    |\n",
    "| `key`            | **One-Hot encode**, because no natural order                           |\n",
    "| `time_signature` | **One-Hot encode**, because no natural order                           |\n"
   ]
  },
  {
   "cell_type": "code",
   "execution_count": 22,
   "id": "ed8e464a",
   "metadata": {},
   "outputs": [],
   "source": [
    "categorical_cols = ['key', 'time_signature']\n",
    "\n",
    "# Create and fit the encoder\n",
    "encoder = OneHotEncoder(drop='first', sparse_output=False) # drop the first column to avoid redundancy\n",
    "encoded = encoder.fit_transform(df[categorical_cols])\n",
    "\n",
    "# Convert encoded array back to DataFrame\n",
    "encoded_cols = encoder.get_feature_names_out(categorical_cols)  # Get proper column names\n",
    "df_encoded = pd.DataFrame(encoded, columns=encoded_cols, index=df.index)\n",
    "\n",
    "# Merge with original dataframe\n",
    "df = pd.concat([df.drop(columns=categorical_cols), df_encoded], axis=1)"
   ]
  },
  {
   "cell_type": "code",
   "execution_count": 23,
   "id": "2508f544",
   "metadata": {},
   "outputs": [
    {
     "name": "stdout",
     "output_type": "stream",
     "text": [
      "<class 'pandas.core.frame.DataFrame'>\n",
      "Index: 4648 entries, 0 to 4830\n",
      "Data columns (total 49 columns):\n",
      " #   Column                    Non-Null Count  Dtype         \n",
      "---  ------                    --------------  -----         \n",
      " 0   track_popularity          4648 non-null   int64         \n",
      " 1   speechiness               4648 non-null   float64       \n",
      " 2   danceability              4648 non-null   float64       \n",
      " 3   playlist_name             4648 non-null   object        \n",
      " 4   track_artist              4648 non-null   object        \n",
      " 5   duration_ms               4648 non-null   float64       \n",
      " 6   energy                    4648 non-null   float64       \n",
      " 7   playlist_genre            4648 non-null   object        \n",
      " 8   playlist_subgenre         4648 non-null   object        \n",
      " 9   track_href                4648 non-null   object        \n",
      " 10  track_name                4648 non-null   object        \n",
      " 11  mode                      4648 non-null   float64       \n",
      " 12  uri                       4648 non-null   object        \n",
      " 13  type                      4648 non-null   object        \n",
      " 14  track_album_release_date  4648 non-null   datetime64[ns]\n",
      " 15  analysis_url              4648 non-null   object        \n",
      " 16  id                        4648 non-null   object        \n",
      " 17  instrumentalness          4648 non-null   float64       \n",
      " 18  track_album_id            4648 non-null   object        \n",
      " 19  playlist_id               4648 non-null   object        \n",
      " 20  track_id                  4648 non-null   object        \n",
      " 21  valence                   4648 non-null   float64       \n",
      " 22  tempo                     4648 non-null   float64       \n",
      " 23  loudness                  4648 non-null   float64       \n",
      " 24  acousticness              4648 non-null   float64       \n",
      " 25  liveness                  4648 non-null   float64       \n",
      " 26  track_album_name          4648 non-null   object        \n",
      " 27  release_year              4648 non-null   Int64         \n",
      " 28  release_month             4648 non-null   Int64         \n",
      " 29  song_age                  4648 non-null   Int64         \n",
      " 30  duration_ms_log           4648 non-null   float64       \n",
      " 31  tempo_scaled              4648 non-null   float64       \n",
      " 32  loudness_scaled           4648 non-null   float64       \n",
      " 33  duration_ms_log_scaled    4648 non-null   float64       \n",
      " 34  song_age_scaled           4648 non-null   float64       \n",
      " 35  key_1.0                   4648 non-null   float64       \n",
      " 36  key_2.0                   4648 non-null   float64       \n",
      " 37  key_3.0                   4648 non-null   float64       \n",
      " 38  key_4.0                   4648 non-null   float64       \n",
      " 39  key_5.0                   4648 non-null   float64       \n",
      " 40  key_6.0                   4648 non-null   float64       \n",
      " 41  key_7.0                   4648 non-null   float64       \n",
      " 42  key_8.0                   4648 non-null   float64       \n",
      " 43  key_9.0                   4648 non-null   float64       \n",
      " 44  key_10.0                  4648 non-null   float64       \n",
      " 45  key_11.0                  4648 non-null   float64       \n",
      " 46  time_signature_3.0        4648 non-null   float64       \n",
      " 47  time_signature_4.0        4648 non-null   float64       \n",
      " 48  time_signature_5.0        4648 non-null   float64       \n",
      "dtypes: Int64(3), datetime64[ns](1), float64(30), int64(1), object(14)\n",
      "memory usage: 1.8+ MB\n"
     ]
    }
   ],
   "source": [
    "df.info()"
   ]
  },
  {
   "cell_type": "code",
   "execution_count": 24,
   "id": "ca22d826",
   "metadata": {},
   "outputs": [
    {
     "data": {
      "text/html": [
       "<div>\n",
       "<style scoped>\n",
       "    .dataframe tbody tr th:only-of-type {\n",
       "        vertical-align: middle;\n",
       "    }\n",
       "\n",
       "    .dataframe tbody tr th {\n",
       "        vertical-align: top;\n",
       "    }\n",
       "\n",
       "    .dataframe thead th {\n",
       "        text-align: right;\n",
       "    }\n",
       "</style>\n",
       "<table border=\"1\" class=\"dataframe\">\n",
       "  <thead>\n",
       "    <tr style=\"text-align: right;\">\n",
       "      <th></th>\n",
       "      <th>track_popularity</th>\n",
       "      <th>speechiness</th>\n",
       "      <th>danceability</th>\n",
       "      <th>playlist_name</th>\n",
       "      <th>track_artist</th>\n",
       "      <th>duration_ms</th>\n",
       "      <th>energy</th>\n",
       "      <th>playlist_genre</th>\n",
       "      <th>playlist_subgenre</th>\n",
       "      <th>track_href</th>\n",
       "      <th>...</th>\n",
       "      <th>key_5.0</th>\n",
       "      <th>key_6.0</th>\n",
       "      <th>key_7.0</th>\n",
       "      <th>key_8.0</th>\n",
       "      <th>key_9.0</th>\n",
       "      <th>key_10.0</th>\n",
       "      <th>key_11.0</th>\n",
       "      <th>time_signature_3.0</th>\n",
       "      <th>time_signature_4.0</th>\n",
       "      <th>time_signature_5.0</th>\n",
       "    </tr>\n",
       "  </thead>\n",
       "  <tbody>\n",
       "    <tr>\n",
       "      <th>0</th>\n",
       "      <td>23</td>\n",
       "      <td>0.0393</td>\n",
       "      <td>0.636</td>\n",
       "      <td>Rock Classics</td>\n",
       "      <td>Creedence Clearwater Revival</td>\n",
       "      <td>138053.0</td>\n",
       "      <td>0.746</td>\n",
       "      <td>rock</td>\n",
       "      <td>classic</td>\n",
       "      <td>https://api.spotify.com/v1/tracks/5e6x5YRnMJIK...</td>\n",
       "      <td>...</td>\n",
       "      <td>0.0</td>\n",
       "      <td>0.0</td>\n",
       "      <td>0.0</td>\n",
       "      <td>0.0</td>\n",
       "      <td>0.0</td>\n",
       "      <td>0.0</td>\n",
       "      <td>0.0</td>\n",
       "      <td>0.0</td>\n",
       "      <td>1.0</td>\n",
       "      <td>0.0</td>\n",
       "    </tr>\n",
       "    <tr>\n",
       "      <th>1</th>\n",
       "      <td>53</td>\n",
       "      <td>0.0317</td>\n",
       "      <td>0.572</td>\n",
       "      <td>Rock Classics</td>\n",
       "      <td>Van Halen</td>\n",
       "      <td>241600.0</td>\n",
       "      <td>0.835</td>\n",
       "      <td>rock</td>\n",
       "      <td>classic</td>\n",
       "      <td>https://api.spotify.com/v1/tracks/5FqYA8KfiwsQ...</td>\n",
       "      <td>...</td>\n",
       "      <td>0.0</td>\n",
       "      <td>0.0</td>\n",
       "      <td>0.0</td>\n",
       "      <td>0.0</td>\n",
       "      <td>0.0</td>\n",
       "      <td>0.0</td>\n",
       "      <td>0.0</td>\n",
       "      <td>0.0</td>\n",
       "      <td>1.0</td>\n",
       "      <td>0.0</td>\n",
       "    </tr>\n",
       "    <tr>\n",
       "      <th>2</th>\n",
       "      <td>55</td>\n",
       "      <td>0.0454</td>\n",
       "      <td>0.591</td>\n",
       "      <td>Rock Classics</td>\n",
       "      <td>Stevie Nicks</td>\n",
       "      <td>329413.0</td>\n",
       "      <td>0.804</td>\n",
       "      <td>rock</td>\n",
       "      <td>classic</td>\n",
       "      <td>https://api.spotify.com/v1/tracks/5LNiqEqpDc8T...</td>\n",
       "      <td>...</td>\n",
       "      <td>0.0</td>\n",
       "      <td>0.0</td>\n",
       "      <td>0.0</td>\n",
       "      <td>0.0</td>\n",
       "      <td>0.0</td>\n",
       "      <td>0.0</td>\n",
       "      <td>0.0</td>\n",
       "      <td>0.0</td>\n",
       "      <td>1.0</td>\n",
       "      <td>0.0</td>\n",
       "    </tr>\n",
       "    <tr>\n",
       "      <th>3</th>\n",
       "      <td>64</td>\n",
       "      <td>0.1010</td>\n",
       "      <td>0.443</td>\n",
       "      <td>Jazz Classics</td>\n",
       "      <td>Ella Fitzgerald, Louis Armstrong</td>\n",
       "      <td>185160.0</td>\n",
       "      <td>0.104</td>\n",
       "      <td>jazz</td>\n",
       "      <td>classic</td>\n",
       "      <td>https://api.spotify.com/v1/tracks/78MI7mu1LV1k...</td>\n",
       "      <td>...</td>\n",
       "      <td>0.0</td>\n",
       "      <td>0.0</td>\n",
       "      <td>0.0</td>\n",
       "      <td>0.0</td>\n",
       "      <td>0.0</td>\n",
       "      <td>0.0</td>\n",
       "      <td>0.0</td>\n",
       "      <td>0.0</td>\n",
       "      <td>1.0</td>\n",
       "      <td>0.0</td>\n",
       "    </tr>\n",
       "    <tr>\n",
       "      <th>4</th>\n",
       "      <td>62</td>\n",
       "      <td>0.0298</td>\n",
       "      <td>0.685</td>\n",
       "      <td>Jazz Classics</td>\n",
       "      <td>Galt MacDermot</td>\n",
       "      <td>205720.0</td>\n",
       "      <td>0.472</td>\n",
       "      <td>jazz</td>\n",
       "      <td>classic</td>\n",
       "      <td>https://api.spotify.com/v1/tracks/6MN6yRVriszu...</td>\n",
       "      <td>...</td>\n",
       "      <td>0.0</td>\n",
       "      <td>0.0</td>\n",
       "      <td>0.0</td>\n",
       "      <td>0.0</td>\n",
       "      <td>1.0</td>\n",
       "      <td>0.0</td>\n",
       "      <td>0.0</td>\n",
       "      <td>0.0</td>\n",
       "      <td>1.0</td>\n",
       "      <td>0.0</td>\n",
       "    </tr>\n",
       "  </tbody>\n",
       "</table>\n",
       "<p>5 rows × 49 columns</p>\n",
       "</div>"
      ],
      "text/plain": [
       "   track_popularity  speechiness  danceability  playlist_name  \\\n",
       "0                23       0.0393         0.636  Rock Classics   \n",
       "1                53       0.0317         0.572  Rock Classics   \n",
       "2                55       0.0454         0.591  Rock Classics   \n",
       "3                64       0.1010         0.443  Jazz Classics   \n",
       "4                62       0.0298         0.685  Jazz Classics   \n",
       "\n",
       "                       track_artist  duration_ms  energy playlist_genre  \\\n",
       "0      Creedence Clearwater Revival     138053.0   0.746           rock   \n",
       "1                         Van Halen     241600.0   0.835           rock   \n",
       "2                      Stevie Nicks     329413.0   0.804           rock   \n",
       "3  Ella Fitzgerald, Louis Armstrong     185160.0   0.104           jazz   \n",
       "4                    Galt MacDermot     205720.0   0.472           jazz   \n",
       "\n",
       "  playlist_subgenre                                         track_href  ...  \\\n",
       "0           classic  https://api.spotify.com/v1/tracks/5e6x5YRnMJIK...  ...   \n",
       "1           classic  https://api.spotify.com/v1/tracks/5FqYA8KfiwsQ...  ...   \n",
       "2           classic  https://api.spotify.com/v1/tracks/5LNiqEqpDc8T...  ...   \n",
       "3           classic  https://api.spotify.com/v1/tracks/78MI7mu1LV1k...  ...   \n",
       "4           classic  https://api.spotify.com/v1/tracks/6MN6yRVriszu...  ...   \n",
       "\n",
       "  key_5.0  key_6.0 key_7.0 key_8.0 key_9.0 key_10.0 key_11.0  \\\n",
       "0     0.0      0.0     0.0     0.0     0.0      0.0      0.0   \n",
       "1     0.0      0.0     0.0     0.0     0.0      0.0      0.0   \n",
       "2     0.0      0.0     0.0     0.0     0.0      0.0      0.0   \n",
       "3     0.0      0.0     0.0     0.0     0.0      0.0      0.0   \n",
       "4     0.0      0.0     0.0     0.0     1.0      0.0      0.0   \n",
       "\n",
       "   time_signature_3.0 time_signature_4.0 time_signature_5.0  \n",
       "0                 0.0                1.0                0.0  \n",
       "1                 0.0                1.0                0.0  \n",
       "2                 0.0                1.0                0.0  \n",
       "3                 0.0                1.0                0.0  \n",
       "4                 0.0                1.0                0.0  \n",
       "\n",
       "[5 rows x 49 columns]"
      ]
     },
     "execution_count": 24,
     "metadata": {},
     "output_type": "execute_result"
    }
   ],
   "source": [
    "df.head()"
   ]
  },
  {
   "cell_type": "markdown",
   "id": "2004427d",
   "metadata": {},
   "source": [
    "### 🧹 Drop Irrelevant Columns"
   ]
  },
  {
   "cell_type": "code",
   "execution_count": 25,
   "id": "b92bed10",
   "metadata": {},
   "outputs": [],
   "source": [
    "feature_cols = [\n",
    "    'danceability', 'energy', 'speechiness', 'acousticness',\n",
    "    'instrumentalness', 'valence', 'loudness_scaled', 'tempo_scaled',\n",
    "    'liveness', 'duration_ms_log_scaled', 'mode', 'song_age_scaled',\n",
    "    'key_1.0', 'key_2.0', 'key_3.0', 'key_4.0', 'key_5.0', 'key_6.0',\n",
    "    'key_7.0', 'key_8.0', 'key_9.0', 'key_10.0', 'key_11.0',\n",
    "    'time_signature_3.0', 'time_signature_4.0', 'time_signature_5.0'\n",
    "]\n",
    "\n",
    "target_col = 'track_popularity'\n",
    "\n",
    "df_clean = df[feature_cols + [target_col]].copy()\n"
   ]
  },
  {
   "cell_type": "code",
   "execution_count": 26,
   "id": "0384eb02",
   "metadata": {},
   "outputs": [
    {
     "name": "stdout",
     "output_type": "stream",
     "text": [
      "<class 'pandas.core.frame.DataFrame'>\n",
      "Index: 4648 entries, 0 to 4830\n",
      "Data columns (total 27 columns):\n",
      " #   Column                  Non-Null Count  Dtype  \n",
      "---  ------                  --------------  -----  \n",
      " 0   danceability            4648 non-null   float64\n",
      " 1   energy                  4648 non-null   float64\n",
      " 2   speechiness             4648 non-null   float64\n",
      " 3   acousticness            4648 non-null   float64\n",
      " 4   instrumentalness        4648 non-null   float64\n",
      " 5   valence                 4648 non-null   float64\n",
      " 6   loudness_scaled         4648 non-null   float64\n",
      " 7   tempo_scaled            4648 non-null   float64\n",
      " 8   liveness                4648 non-null   float64\n",
      " 9   duration_ms_log_scaled  4648 non-null   float64\n",
      " 10  mode                    4648 non-null   float64\n",
      " 11  song_age_scaled         4648 non-null   float64\n",
      " 12  key_1.0                 4648 non-null   float64\n",
      " 13  key_2.0                 4648 non-null   float64\n",
      " 14  key_3.0                 4648 non-null   float64\n",
      " 15  key_4.0                 4648 non-null   float64\n",
      " 16  key_5.0                 4648 non-null   float64\n",
      " 17  key_6.0                 4648 non-null   float64\n",
      " 18  key_7.0                 4648 non-null   float64\n",
      " 19  key_8.0                 4648 non-null   float64\n",
      " 20  key_9.0                 4648 non-null   float64\n",
      " 21  key_10.0                4648 non-null   float64\n",
      " 22  key_11.0                4648 non-null   float64\n",
      " 23  time_signature_3.0      4648 non-null   float64\n",
      " 24  time_signature_4.0      4648 non-null   float64\n",
      " 25  time_signature_5.0      4648 non-null   float64\n",
      " 26  track_popularity        4648 non-null   int64  \n",
      "dtypes: float64(26), int64(1)\n",
      "memory usage: 1016.8 KB\n"
     ]
    }
   ],
   "source": [
    "df_clean.info()"
   ]
  },
  {
   "cell_type": "code",
   "execution_count": 27,
   "id": "eca4e463",
   "metadata": {},
   "outputs": [
    {
     "data": {
      "text/html": [
       "<div>\n",
       "<style scoped>\n",
       "    .dataframe tbody tr th:only-of-type {\n",
       "        vertical-align: middle;\n",
       "    }\n",
       "\n",
       "    .dataframe tbody tr th {\n",
       "        vertical-align: top;\n",
       "    }\n",
       "\n",
       "    .dataframe thead th {\n",
       "        text-align: right;\n",
       "    }\n",
       "</style>\n",
       "<table border=\"1\" class=\"dataframe\">\n",
       "  <thead>\n",
       "    <tr style=\"text-align: right;\">\n",
       "      <th></th>\n",
       "      <th>danceability</th>\n",
       "      <th>energy</th>\n",
       "      <th>speechiness</th>\n",
       "      <th>acousticness</th>\n",
       "      <th>instrumentalness</th>\n",
       "      <th>valence</th>\n",
       "      <th>loudness_scaled</th>\n",
       "      <th>tempo_scaled</th>\n",
       "      <th>liveness</th>\n",
       "      <th>duration_ms_log_scaled</th>\n",
       "      <th>...</th>\n",
       "      <th>key_6.0</th>\n",
       "      <th>key_7.0</th>\n",
       "      <th>key_8.0</th>\n",
       "      <th>key_9.0</th>\n",
       "      <th>key_10.0</th>\n",
       "      <th>key_11.0</th>\n",
       "      <th>time_signature_3.0</th>\n",
       "      <th>time_signature_4.0</th>\n",
       "      <th>time_signature_5.0</th>\n",
       "      <th>track_popularity</th>\n",
       "    </tr>\n",
       "  </thead>\n",
       "  <tbody>\n",
       "    <tr>\n",
       "      <th>0</th>\n",
       "      <td>0.636</td>\n",
       "      <td>0.746</td>\n",
       "      <td>0.0393</td>\n",
       "      <td>0.0648</td>\n",
       "      <td>0.290000</td>\n",
       "      <td>0.432</td>\n",
       "      <td>0.768645</td>\n",
       "      <td>0.498184</td>\n",
       "      <td>0.1730</td>\n",
       "      <td>-1.032946</td>\n",
       "      <td>...</td>\n",
       "      <td>0.0</td>\n",
       "      <td>0.0</td>\n",
       "      <td>0.0</td>\n",
       "      <td>0.0</td>\n",
       "      <td>0.0</td>\n",
       "      <td>0.0</td>\n",
       "      <td>0.0</td>\n",
       "      <td>1.0</td>\n",
       "      <td>0.0</td>\n",
       "      <td>23</td>\n",
       "    </tr>\n",
       "    <tr>\n",
       "      <th>1</th>\n",
       "      <td>0.572</td>\n",
       "      <td>0.835</td>\n",
       "      <td>0.0317</td>\n",
       "      <td>0.1710</td>\n",
       "      <td>0.000377</td>\n",
       "      <td>0.795</td>\n",
       "      <td>0.430300</td>\n",
       "      <td>0.416355</td>\n",
       "      <td>0.0702</td>\n",
       "      <td>0.676219</td>\n",
       "      <td>...</td>\n",
       "      <td>0.0</td>\n",
       "      <td>0.0</td>\n",
       "      <td>0.0</td>\n",
       "      <td>0.0</td>\n",
       "      <td>0.0</td>\n",
       "      <td>0.0</td>\n",
       "      <td>0.0</td>\n",
       "      <td>1.0</td>\n",
       "      <td>0.0</td>\n",
       "      <td>53</td>\n",
       "    </tr>\n",
       "    <tr>\n",
       "      <th>2</th>\n",
       "      <td>0.591</td>\n",
       "      <td>0.804</td>\n",
       "      <td>0.0454</td>\n",
       "      <td>0.3270</td>\n",
       "      <td>0.000006</td>\n",
       "      <td>0.658</td>\n",
       "      <td>0.280172</td>\n",
       "      <td>-0.234482</td>\n",
       "      <td>0.0818</td>\n",
       "      <td>1.623053</td>\n",
       "      <td>...</td>\n",
       "      <td>0.0</td>\n",
       "      <td>0.0</td>\n",
       "      <td>0.0</td>\n",
       "      <td>0.0</td>\n",
       "      <td>0.0</td>\n",
       "      <td>0.0</td>\n",
       "      <td>0.0</td>\n",
       "      <td>1.0</td>\n",
       "      <td>0.0</td>\n",
       "      <td>55</td>\n",
       "    </tr>\n",
       "    <tr>\n",
       "      <th>3</th>\n",
       "      <td>0.443</td>\n",
       "      <td>0.104</td>\n",
       "      <td>0.1010</td>\n",
       "      <td>0.9130</td>\n",
       "      <td>0.000000</td>\n",
       "      <td>0.394</td>\n",
       "      <td>-1.074181</td>\n",
       "      <td>-1.463602</td>\n",
       "      <td>0.1910</td>\n",
       "      <td>-0.136342</td>\n",
       "      <td>...</td>\n",
       "      <td>0.0</td>\n",
       "      <td>0.0</td>\n",
       "      <td>0.0</td>\n",
       "      <td>0.0</td>\n",
       "      <td>0.0</td>\n",
       "      <td>0.0</td>\n",
       "      <td>0.0</td>\n",
       "      <td>1.0</td>\n",
       "      <td>0.0</td>\n",
       "      <td>64</td>\n",
       "    </tr>\n",
       "    <tr>\n",
       "      <th>4</th>\n",
       "      <td>0.685</td>\n",
       "      <td>0.472</td>\n",
       "      <td>0.0298</td>\n",
       "      <td>0.7850</td>\n",
       "      <td>0.284000</td>\n",
       "      <td>0.475</td>\n",
       "      <td>-0.052335</td>\n",
       "      <td>-1.322606</td>\n",
       "      <td>0.2240</td>\n",
       "      <td>0.185233</td>\n",
       "      <td>...</td>\n",
       "      <td>0.0</td>\n",
       "      <td>0.0</td>\n",
       "      <td>0.0</td>\n",
       "      <td>1.0</td>\n",
       "      <td>0.0</td>\n",
       "      <td>0.0</td>\n",
       "      <td>0.0</td>\n",
       "      <td>1.0</td>\n",
       "      <td>0.0</td>\n",
       "      <td>62</td>\n",
       "    </tr>\n",
       "  </tbody>\n",
       "</table>\n",
       "<p>5 rows × 27 columns</p>\n",
       "</div>"
      ],
      "text/plain": [
       "   danceability  energy  speechiness  acousticness  instrumentalness  valence  \\\n",
       "0         0.636   0.746       0.0393        0.0648          0.290000    0.432   \n",
       "1         0.572   0.835       0.0317        0.1710          0.000377    0.795   \n",
       "2         0.591   0.804       0.0454        0.3270          0.000006    0.658   \n",
       "3         0.443   0.104       0.1010        0.9130          0.000000    0.394   \n",
       "4         0.685   0.472       0.0298        0.7850          0.284000    0.475   \n",
       "\n",
       "   loudness_scaled  tempo_scaled  liveness  duration_ms_log_scaled  ...  \\\n",
       "0         0.768645      0.498184    0.1730               -1.032946  ...   \n",
       "1         0.430300      0.416355    0.0702                0.676219  ...   \n",
       "2         0.280172     -0.234482    0.0818                1.623053  ...   \n",
       "3        -1.074181     -1.463602    0.1910               -0.136342  ...   \n",
       "4        -0.052335     -1.322606    0.2240                0.185233  ...   \n",
       "\n",
       "   key_6.0  key_7.0  key_8.0  key_9.0  key_10.0  key_11.0  time_signature_3.0  \\\n",
       "0      0.0      0.0      0.0      0.0       0.0       0.0                 0.0   \n",
       "1      0.0      0.0      0.0      0.0       0.0       0.0                 0.0   \n",
       "2      0.0      0.0      0.0      0.0       0.0       0.0                 0.0   \n",
       "3      0.0      0.0      0.0      0.0       0.0       0.0                 0.0   \n",
       "4      0.0      0.0      0.0      1.0       0.0       0.0                 0.0   \n",
       "\n",
       "   time_signature_4.0  time_signature_5.0  track_popularity  \n",
       "0                 1.0                 0.0                23  \n",
       "1                 1.0                 0.0                53  \n",
       "2                 1.0                 0.0                55  \n",
       "3                 1.0                 0.0                64  \n",
       "4                 1.0                 0.0                62  \n",
       "\n",
       "[5 rows x 27 columns]"
      ]
     },
     "execution_count": 27,
     "metadata": {},
     "output_type": "execute_result"
    }
   ],
   "source": [
    "df_clean.head()"
   ]
  },
  {
   "cell_type": "markdown",
   "id": "cb96d55b",
   "metadata": {},
   "source": [
    "## Save Clean Data"
   ]
  },
  {
   "cell_type": "code",
   "execution_count": 32,
   "id": "c03feda0",
   "metadata": {},
   "outputs": [
    {
     "name": "stdout",
     "output_type": "stream",
     "text": [
      "Cleaned data saved to: data/processed/spotify_clean.csv\n"
     ]
    }
   ],
   "source": [
    "processed_path = config['data']['processed']['clean']\n",
    "df_clean.to_csv(processed_path, index=False)\n",
    "\n",
    "print(f\"Cleaned data saved to: {processed_path}\")\n"
   ]
  }
 ],
 "metadata": {
  "kernelspec": {
   "display_name": "spotify_venv311",
   "language": "python",
   "name": "spotify_venv"
  },
  "language_info": {
   "codemirror_mode": {
    "name": "ipython",
    "version": 3
   },
   "file_extension": ".py",
   "mimetype": "text/x-python",
   "name": "python",
   "nbconvert_exporter": "python",
   "pygments_lexer": "ipython3",
   "version": "3.11.0"
  }
 },
 "nbformat": 4,
 "nbformat_minor": 5
}
