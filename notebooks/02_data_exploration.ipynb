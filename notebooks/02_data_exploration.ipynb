{
 "cells": [
  {
   "cell_type": "markdown",
   "id": "01e643d7",
   "metadata": {},
   "source": [
    "# Phase 2 - Step 2: Data Exploration\n",
    "### Spotify Song Popularity Predictor 🎵\n",
    "\n",
    "**Goal:**  \n",
    "Explore and understand the combined Spotify dataset to identify:\n",
    "- Column meanings and data types  \n",
    "- Missing values and data quality issues  \n",
    "- Basic distributions of key features (danceability, energy, tempo, etc.)  \n",
    "- Early correlations with song popularity\n",
    "\n",
    "We'll use visual and statistical methods to prepare for cleaning and feature engineering.\n"
   ]
  },
  {
   "cell_type": "code",
   "execution_count": 1,
   "id": "41c41cb4",
   "metadata": {},
   "outputs": [],
   "source": [
    "import os\n",
    "os.chdir(\"..\")\n"
   ]
  },
  {
   "cell_type": "code",
   "execution_count": 5,
   "id": "23cda10f",
   "metadata": {},
   "outputs": [
    {
     "name": "stdout",
     "output_type": "stream",
     "text": [
      "Initialized logger...\n"
     ]
    }
   ],
   "source": [
    "# Import Required Libraries\n",
    "\n",
    "\n",
    "import pandas as pd\n",
    "import numpy as np\n",
    "import matplotlib.pyplot as plt\n",
    "import seaborn as sns\n",
    "\n",
    "from src.data.compute_vif import compute_and_print_vif_from_config, iterative_vif_reduction\n",
    "\n",
    "import warnings\n",
    "warnings.filterwarnings(\"ignore\")\n",
    "%matplotlib inline\n",
    "plt.style.use('seaborn-v0_8-darkgrid')\n",
    "plt.rcParams[\"figure.figsize\"] = (20, 6)\n",
    "\n",
    "import logging\n",
    "logging.getLogger('matplotlib.pyplot').setLevel(logging.WARNING)\n",
    "\n",
    "\n",
    "from src.utils.logger import Logger\n",
    "from src.utils.helper import get_config"
   ]
  },
  {
   "cell_type": "code",
   "execution_count": null,
   "id": "d3d468de",
   "metadata": {},
   "outputs": [],
   "source": [
    "# Initialize Logger and Config\n",
    "\n",
    "logger = Logger().get_logger(__name__)\n",
    "config = get_config()\n",
    "\n",
    "logger.info(\"Starting Data Exploration phase...\")"
   ]
  },
  {
   "cell_type": "code",
   "execution_count": null,
   "id": "bbe31e62",
   "metadata": {},
   "outputs": [],
   "source": [
    "# Load the Combined Dataset\n",
    "\n",
    "data_Path = config[\"data\"][\"processed\"][\"combined\"]\n",
    "df = pd.read_csv(data_Path)\n",
    "\n",
    "df.head()"
   ]
  },
  {
   "cell_type": "code",
   "execution_count": null,
   "id": "5e662a23",
   "metadata": {},
   "outputs": [],
   "source": [
    "df.info()"
   ]
  },
  {
   "cell_type": "code",
   "execution_count": null,
   "id": "7c42223f",
   "metadata": {},
   "outputs": [],
   "source": [
    "# summary statistics\n",
    "\n",
    "df.describe().T"
   ]
  },
  {
   "cell_type": "markdown",
   "id": "c7db8dbc",
   "metadata": {},
   "source": [
    "## 💡 Insights\n",
    "\n",
    "1. **Data Quality:**\n",
    "\n",
    "   * Very few missing values ✅\n",
    "   * Reasonable numeric ranges ✅\n",
    "   * No crazy outliers (except maybe `loudness`) ✅\n",
    "     → This dataset is high-quality — little cleaning needed.\n",
    "\n",
    "2. **Feature Relevance:**\n",
    "\n",
    "   * Useful for modeling: `danceability`, `energy`, `valence`, `tempo`, `loudness`, `acousticness`.\n",
    "   * Likely drop: identifiers (`uri`, `id`, `track_href`, etc.), descriptive text columns (`track_name`, `playlist_name`).\n",
    "\n",
    "3. **Feature Engineering Ideas (Future):**\n",
    "\n",
    "   * Extract **release year** from `track_album_release_date`.\n",
    "   * Encode categorical variables like `playlist_genre` and `playlist_subgenre`.\n",
    "   * Normalize continuous variables like `duration_ms` or `tempo`.\n",
    "   * One-hot encode `mode` (0 = minor, 1 = major).\n",
    "\n",
    "4. **Potential Hypotheses to Test Later:**\n",
    "\n",
    "   * Higher **energy** and **danceability** → more popular.\n",
    "   * **Acoustic** or **instrumental** songs → less popular.\n",
    "   * Popularity may vary by **genre** or **tempo range**.\n",
    "\n",
    "---"
   ]
  },
  {
   "cell_type": "markdown",
   "id": "40aa61b6",
   "metadata": {},
   "source": [
    "- So the average song is around 3 minutes 26 seconds long —\n",
    "which perfectly fits normal pop song lengths.\n",
    "\n",
    "- So most songs vary by ±1.3 minutes from the mean —\n",
    "meaning you have both short and long songs, but not extreme differences overall.\n",
    "\n",
    "- So 25% of your songs are shorter than ~2 minutes 39 seconds.\n",
    "\n",
    "- Half your songs are shorter than 3.25 minutes (3 min 15 sec), half are longer — again, typical for mainstream tracks.\n",
    "\n",
    "- So 75% of songs are under ~3 minutes 53 seconds.\n",
    "You can already see most songs fall neatly in that 2.5–4 minute window.\n",
    "\n",
    "- Max song is 22 min 35 sec. Woah 😳 that’s a long one — maybe a live recording, podcast segment, or instrumental version. Definitely an outlier.\n",
    "\n",
    "## Summary of Duration:\n",
    "Your dataset mostly contains regular-length songs (2–4 minutes),\n",
    "a few really short intros, and one or two marathon tracks.\n",
    "If you’re building a model, you might want to cap or normalize those long ones —\n",
    "they could distort your averages and influence the model unfairly."
   ]
  },
  {
   "cell_type": "code",
   "execution_count": null,
   "id": "896b89b9",
   "metadata": {},
   "outputs": [],
   "source": [
    "# Verify Hypothesis\n",
    "#  \n",
    "# Energy vs Popularity\n",
    "sns.scatterplot(x=\"energy\", y=\"track_popularity\", data=df, alpha=0.5)\n",
    "plt.title(\"Energy vs Popularity\")\n",
    "\n"
   ]
  },
  {
   "cell_type": "code",
   "execution_count": null,
   "id": "da2a7379",
   "metadata": {},
   "outputs": [],
   "source": [
    "\n",
    "# Danceability vs Popularity\n",
    "sns.scatterplot(x=\"danceability\", y=\"track_popularity\", data=df, alpha=0.5)\n",
    "plt.title(\"Danceability vs Popularity\")"
   ]
  },
  {
   "cell_type": "code",
   "execution_count": null,
   "id": "212673e2",
   "metadata": {},
   "outputs": [],
   "source": [
    "\n",
    "# Acousticness vs Popularity\n",
    "sns.scatterplot(x=\"acousticness\", y=\"track_popularity\", data=df, alpha=0.5)\n",
    "plt.title(\"Acousticness vs Popularity\")"
   ]
  },
  {
   "cell_type": "code",
   "execution_count": null,
   "id": "18d69afd",
   "metadata": {},
   "outputs": [],
   "source": [
    "# instrumentalness vs Popularity\n",
    "sns.scatterplot(x=\"instrumentalness\", y=\"track_popularity\", data=df, alpha=0.5)\n",
    "plt.title(\"instrumentalness vs Popularity\")"
   ]
  },
  {
   "cell_type": "markdown",
   "id": "49b2c515",
   "metadata": {},
   "source": [
    "# the last 2, yeah when 0 popularity is more"
   ]
  },
  {
   "cell_type": "code",
   "execution_count": null,
   "id": "2778fb72",
   "metadata": {},
   "outputs": [],
   "source": [
    "df.columns"
   ]
  },
  {
   "cell_type": "code",
   "execution_count": null,
   "id": "cba02ce3",
   "metadata": {},
   "outputs": [],
   "source": [
    "numeric_cols = df.select_dtypes(include=np.number).columns.tolist()\n",
    "\n",
    "plt.figure(figsize=(14, 8))\n",
    "df[numeric_cols].hist(bins=20, figsize=(14, 12), color=\"skyblue\", edgecolor=\"black\")\n",
    "plt.suptitle(\"Distribution of Numeric Features\", fontsize=16)\n",
    "plt.show()\n"
   ]
  },
  {
   "cell_type": "markdown",
   "id": "fbbeebe4",
   "metadata": {},
   "source": [
    "## 💡 Summary: Quick Insight\n",
    "\n",
    "| Observation                                                                             | Meaning                                 | Possible Next Step                |\n",
    "| --------------------------------------------------------------------------------------- | --------------------------------------- | --------------------------------- |\n",
    "| Several features are **skewed** (speechiness, acousticness, liveness, instrumentalness) | They could distort some models          | Log-transform or normalize them   |\n",
    "| Some features are **categorical in disguise** (mode, key, time_signature)               | Use one-hot encoding instead of scaling | Treat as categorical              |\n",
    "| A few **outliers** exist (duration_ms, loudness)                                        | They may hurt training                  | Handle with clipping or filtering |\n",
    "| `track_popularity` has good spread                                                      | Perfect for prediction target           | No change needed                  |\n"
   ]
  },
  {
   "cell_type": "markdown",
   "id": "a1076266",
   "metadata": {},
   "source": [
    "# mbalanced dataset?\n",
    "High is ike half of low"
   ]
  },
  {
   "cell_type": "code",
   "execution_count": null,
   "id": "9436bab0",
   "metadata": {},
   "outputs": [],
   "source": [
    "\n",
    "sns.heatmap(\n",
    "    df.corr(numeric_only=True),   # correlation matrix\n",
    "    cmap=\"coolwarm\",              # color style\n",
    "    center=0,                     # center around 0 (for balance)\n",
    "    annot=True,                   # show numbers inside cells\n",
    "    fmt=\".2f\"                     # format numbers to 2 decimal places\n",
    ")\n",
    "\n",
    "plt.title(\"Feature Correlation Heatmap\")\n",
    "plt.show()\n"
   ]
  },
  {
   "cell_type": "markdown",
   "id": "70491b78",
   "metadata": {},
   "source": [
    "# Multicollinearity\n",
    "\n",
    "Loudness and energy\n",
    "\n",
    "i guess that makes sense, if a song has energy it would be kinda loud right?\n",
    "\n",
    "> You spotted true multicollinearity.\n",
    "\n",
    "> Use VIF to confirm it, and use domain knowledge (drop loudness, keep energy) for your Linear Regression model."
   ]
  },
  {
   "cell_type": "code",
   "execution_count": null,
   "id": "7f2f5420",
   "metadata": {},
   "outputs": [],
   "source": [
    "\n",
    "# Step 1: Inspect VIF scores\n",
    "compute_and_print_vif_from_config(df, numeric_cols)\n",
    "\n",
    "# # Step 2: Reduce features iteratively\n",
    "# df_reduced, dropped_features = iterative_vif_reduction(df, numeric_cols)\n",
    "\n",
    "# print(\"Dropped features due to high multicollinearity:\", dropped_features)"
   ]
  },
  {
   "cell_type": "code",
   "execution_count": null,
   "id": "189d09a9",
   "metadata": {},
   "outputs": [],
   "source": [
    "# # Check for Missing Values\n",
    "\n",
    "# missing_values = df.isnull().sum().sort_values(ascending=False)\n",
    "# missing_values[missing_values > 0]"
   ]
  },
  {
   "cell_type": "code",
   "execution_count": null,
   "id": "9832762d",
   "metadata": {},
   "outputs": [],
   "source": [
    "# Check Duplicates\n",
    "\n",
    "df.duplicated().sum()"
   ]
  },
  {
   "cell_type": "code",
   "execution_count": null,
   "id": "3cc45890",
   "metadata": {},
   "outputs": [],
   "source": [
    "# version this to src/data/validate_data.py"
   ]
  },
  {
   "cell_type": "markdown",
   "id": "f6d5852a",
   "metadata": {},
   "source": [
    "## **Phase 2 → Step 3: Data Cleaning and Preprocessing**\n",
    "\n",
    "- Handle missing values\n",
    "- Remove duplicates\n",
    "- Fix data types and scaling"
   ]
  },
  {
   "cell_type": "code",
   "execution_count": null,
   "id": "80d0b3a8",
   "metadata": {},
   "outputs": [],
   "source": [
    "# # Remove rows with missing values\n",
    "# df_cleaned = df.dropna()\n",
    "\n",
    "# # Verify that missing values are gone\n",
    "# missing_values = df_cleaned.isnull().sum().sort_values(ascending=False)\n",
    "# missing_values[missing_values > 0]"
   ]
  },
  {
   "cell_type": "code",
   "execution_count": null,
   "id": "1a7ea905",
   "metadata": {},
   "outputs": [],
   "source": [
    "# Data Type Conversion"
   ]
  }
 ],
 "metadata": {
  "kernelspec": {
   "display_name": "spotify_venv311",
   "language": "python",
   "name": "spotify_venv"
  },
  "language_info": {
   "codemirror_mode": {
    "name": "ipython",
    "version": 3
   },
   "file_extension": ".py",
   "mimetype": "text/x-python",
   "name": "python",
   "nbconvert_exporter": "python",
   "pygments_lexer": "ipython3",
   "version": "3.11.0"
  }
 },
 "nbformat": 4,
 "nbformat_minor": 5
}
